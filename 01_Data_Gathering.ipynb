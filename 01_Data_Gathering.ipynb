{
 "cells": [
  {
   "cell_type": "markdown",
   "metadata": {},
   "source": [
    "# Contents\n",
    "1. [Tweets](#Collecting-Tweets-with-TweetScraper)\n",
    "2. [Weather Data](#Weather-Data)\n",
    "3. [Outage Data](#Outage-Data)"
   ]
  },
  {
   "cell_type": "markdown",
   "metadata": {},
   "source": [
    "## Collecting Tweets with TweetScraper"
   ]
  },
  {
   "cell_type": "markdown",
   "metadata": {},
   "source": [
    "We collected tweets using [TweetScraper](https://github.com/jonbakerfish/TweetScraper), but it should be noted that we only arrived at this solution after spending about a week trying other techniques without successfully compiling a usable collection of historical tweets.\n",
    "\n",
    "Here is a brief summary of the issues we had:\n",
    "\n",
    "- *Twitter's free API only allowed access to the seven most recent days of historical tweets. Further access required a costly subscription.*\n",
    "- *While using the [TwitterScraper](https://github.com/taspinar/twitterscraper) package, we quickly exceeded the maximum number of API requests allowed and were prevented from pulling additional tweets.*\n",
    "- *Before out access was blocked, TwitterScraper appeared to return 400 tweets per request, but, once we set the tweets in a pandas dataframe, we discovered that each request pulled only 20 unique tweets (repeated 20 times).*"
   ]
  },
  {
   "cell_type": "markdown",
   "metadata": {},
   "source": [
    "#### Collecting Tweets\n",
    "\n",
    "We ran TweetScraper in the terminal, using the query \"power outage conedison\". \n",
    "\n",
    "![](./images/tweetscaper_terminal.png)\n",
    "\n",
    "This returned 4,375 tweets ranging from 2007-07-20 to the time of the scrape. TweetScraper returned each tweet as an individual JSON file, saved to the folder *\"../TweetScraper/Data/tweet\"*. We copied this folder to the present directory, and used the following code to extract the tweets and add them to a Pandas Dataframe."
   ]
  },
  {
   "cell_type": "markdown",
   "metadata": {},
   "source": [
    "#### Converting JSON files into a Pandas dataframe"
   ]
  },
  {
   "cell_type": "code",
   "execution_count": 1,
   "metadata": {},
   "outputs": [],
   "source": [
    "import json\n",
    "import os\n",
    "tweets = []\n",
    "for file in os.listdir('tweet/'):\n",
    "    filename = 'tweet/' + str(file)\n",
    "    if filename[7:10].isdigit():\n",
    "        with open(filename) as tweetfile:\n",
    "            pyresponse = json.loads(tweetfile.read())\n",
    "            tweets.append(pyresponse)"
   ]
  },
  {
   "cell_type": "code",
   "execution_count": 2,
   "metadata": {},
   "outputs": [
    {
     "data": {
      "text/html": [
       "<div>\n",
       "<style scoped>\n",
       "    .dataframe tbody tr th:only-of-type {\n",
       "        vertical-align: middle;\n",
       "    }\n",
       "\n",
       "    .dataframe tbody tr th {\n",
       "        vertical-align: top;\n",
       "    }\n",
       "\n",
       "    .dataframe thead th {\n",
       "        text-align: right;\n",
       "    }\n",
       "</style>\n",
       "<table border=\"1\" class=\"dataframe\">\n",
       "  <thead>\n",
       "    <tr style=\"text-align: right;\">\n",
       "      <th></th>\n",
       "      <th>ID</th>\n",
       "      <th>datetime</th>\n",
       "      <th>has_media</th>\n",
       "      <th>is_reply</th>\n",
       "      <th>is_retweet</th>\n",
       "      <th>medias</th>\n",
       "      <th>nbr_favorite</th>\n",
       "      <th>nbr_reply</th>\n",
       "      <th>nbr_retweet</th>\n",
       "      <th>text</th>\n",
       "      <th>url</th>\n",
       "      <th>user_id</th>\n",
       "      <th>usernameTweet</th>\n",
       "    </tr>\n",
       "  </thead>\n",
       "  <tbody>\n",
       "    <tr>\n",
       "      <th>0</th>\n",
       "      <td>267716394043465728</td>\n",
       "      <td>2012-11-11 14:52:16</td>\n",
       "      <td>NaN</td>\n",
       "      <td>False</td>\n",
       "      <td>False</td>\n",
       "      <td>NaN</td>\n",
       "      <td>0</td>\n",
       "      <td>0</td>\n",
       "      <td>0</td>\n",
       "      <td>ConEd : NY Sandy  power   outages  slip; costs...</td>\n",
       "      <td>/RealJezzy/status/267716394043465728</td>\n",
       "      <td>504279674</td>\n",
       "      <td>RealJezzy</td>\n",
       "    </tr>\n",
       "    <tr>\n",
       "      <th>1</th>\n",
       "      <td>298660085255770112</td>\n",
       "      <td>2013-02-05 00:11:27</td>\n",
       "      <td>NaN</td>\n",
       "      <td>False</td>\n",
       "      <td>False</td>\n",
       "      <td>NaN</td>\n",
       "      <td>0</td>\n",
       "      <td>0</td>\n",
       "      <td>0</td>\n",
       "      <td>@ ConEdison  \\n Power   outage  in queens</td>\n",
       "      <td>/meirBGNY/status/298660085255770112</td>\n",
       "      <td>909594764</td>\n",
       "      <td>meirBGNY</td>\n",
       "    </tr>\n",
       "    <tr>\n",
       "      <th>2</th>\n",
       "      <td>21860028236</td>\n",
       "      <td>2010-08-22 17:33:44</td>\n",
       "      <td>NaN</td>\n",
       "      <td>False</td>\n",
       "      <td>False</td>\n",
       "      <td>NaN</td>\n",
       "      <td>0</td>\n",
       "      <td>0</td>\n",
       "      <td>0</td>\n",
       "      <td>Power   outage  in the Whitestone section of Q...</td>\n",
       "      <td>/olgushka1/status/21860028236</td>\n",
       "      <td>68886571</td>\n",
       "      <td>olgushka1</td>\n",
       "    </tr>\n",
       "    <tr>\n",
       "      <th>3</th>\n",
       "      <td>1069021302667833344</td>\n",
       "      <td>2018-12-01 19:11:54</td>\n",
       "      <td>NaN</td>\n",
       "      <td>False</td>\n",
       "      <td>False</td>\n",
       "      <td>NaN</td>\n",
       "      <td>0</td>\n",
       "      <td>1</td>\n",
       "      <td>0</td>\n",
       "      <td>about that  power   outage  that is now over.....</td>\n",
       "      <td>/jimcasale/status/1069021302667833344</td>\n",
       "      <td>12393522</td>\n",
       "      <td>jimcasale</td>\n",
       "    </tr>\n",
       "    <tr>\n",
       "      <th>4</th>\n",
       "      <td>767077182124486656</td>\n",
       "      <td>2016-08-20 15:13:46</td>\n",
       "      <td>NaN</td>\n",
       "      <td>False</td>\n",
       "      <td>False</td>\n",
       "      <td>NaN</td>\n",
       "      <td>3</td>\n",
       "      <td>0</td>\n",
       "      <td>7</td>\n",
       "      <td>.@ConEdison  is responding to a  power   outag...</td>\n",
       "      <td>/NotifyNYC/status/767077182124486656</td>\n",
       "      <td>16145875</td>\n",
       "      <td>NotifyNYC</td>\n",
       "    </tr>\n",
       "  </tbody>\n",
       "</table>\n",
       "</div>"
      ],
      "text/plain": [
       "                    ID             datetime has_media  is_reply  is_retweet  \\\n",
       "0   267716394043465728  2012-11-11 14:52:16       NaN     False       False   \n",
       "1   298660085255770112  2013-02-05 00:11:27       NaN     False       False   \n",
       "2          21860028236  2010-08-22 17:33:44       NaN     False       False   \n",
       "3  1069021302667833344  2018-12-01 19:11:54       NaN     False       False   \n",
       "4   767077182124486656  2016-08-20 15:13:46       NaN     False       False   \n",
       "\n",
       "  medias  nbr_favorite  nbr_reply  nbr_retweet  \\\n",
       "0    NaN             0          0            0   \n",
       "1    NaN             0          0            0   \n",
       "2    NaN             0          0            0   \n",
       "3    NaN             0          1            0   \n",
       "4    NaN             3          0            7   \n",
       "\n",
       "                                                text  \\\n",
       "0  ConEd : NY Sandy  power   outages  slip; costs...   \n",
       "1          @ ConEdison  \\n Power   outage  in queens   \n",
       "2  Power   outage  in the Whitestone section of Q...   \n",
       "3  about that  power   outage  that is now over.....   \n",
       "4  .@ConEdison  is responding to a  power   outag...   \n",
       "\n",
       "                                     url    user_id usernameTweet  \n",
       "0   /RealJezzy/status/267716394043465728  504279674     RealJezzy  \n",
       "1    /meirBGNY/status/298660085255770112  909594764      meirBGNY  \n",
       "2          /olgushka1/status/21860028236   68886571     olgushka1  \n",
       "3  /jimcasale/status/1069021302667833344   12393522     jimcasale  \n",
       "4   /NotifyNYC/status/767077182124486656   16145875     NotifyNYC  "
      ]
     },
     "execution_count": 2,
     "metadata": {},
     "output_type": "execute_result"
    }
   ],
   "source": [
    "import pandas as pd\n",
    "df = pd.DataFrame(tweets)\n",
    "df.head()"
   ]
  },
  {
   "cell_type": "code",
   "execution_count": 3,
   "metadata": {},
   "outputs": [
    {
     "data": {
      "text/plain": [
       "4374"
      ]
     },
     "execution_count": 3,
     "metadata": {},
     "output_type": "execute_result"
    }
   ],
   "source": [
    "len(df)"
   ]
  },
  {
   "cell_type": "code",
   "execution_count": 5,
   "metadata": {},
   "outputs": [],
   "source": [
    "df.to_csv('./data/tweets_scrape_first_df.csv', index=False)"
   ]
  },
  {
   "cell_type": "markdown",
   "metadata": {},
   "source": [
    "## Weather Data"
   ]
  },
  {
   "cell_type": "markdown",
   "metadata": {},
   "source": [
    "Weather data was gathered from Kaggle's [Historic Hourly Weather](https://www.kaggle.com/selfishgene/historical-hourly-weather-data#weather_description.csv) dataset, which includes hourly weather data for New York City from 10/1/2012 to 10/27/2017."
   ]
  },
  {
   "cell_type": "markdown",
   "metadata": {},
   "source": [
    "## Outage Data"
   ]
  },
  {
   "cell_type": "markdown",
   "metadata": {},
   "source": [
    "Power outage data was gathered from NYC Open Data's [OEM Emergency Notification](https://data.cityofnewyork.us/Public-Safety/OEM-Emergency-Notifications/8vv7-7wx3/data) database, which includes data on official NYC Office of Emergency Management notifications dating back to 2009.\n",
    "\n",
    "Power outage notifications will contain the term 'Power Outage' in the *Notification Title* column."
   ]
  },
  {
   "cell_type": "markdown",
   "metadata": {},
   "source": [
    "<a id=\"#Collecting-Tweets-with-TweetScraper\"></a>\n",
    "test"
   ]
  },
  {
   "cell_type": "code",
   "execution_count": null,
   "metadata": {},
   "outputs": [],
   "source": []
  }
 ],
 "metadata": {
  "kernelspec": {
   "display_name": "Python 3",
   "language": "python",
   "name": "python3"
  },
  "language_info": {
   "codemirror_mode": {
    "name": "ipython",
    "version": 3
   },
   "file_extension": ".py",
   "mimetype": "text/x-python",
   "name": "python",
   "nbconvert_exporter": "python",
   "pygments_lexer": "ipython3",
   "version": "3.6.8"
  },
  "varInspector": {
   "cols": {
    "lenName": 16,
    "lenType": 16,
    "lenVar": 40
   },
   "kernels_config": {
    "python": {
     "delete_cmd_postfix": "",
     "delete_cmd_prefix": "del ",
     "library": "var_list.py",
     "varRefreshCmd": "print(var_dic_list())"
    },
    "r": {
     "delete_cmd_postfix": ") ",
     "delete_cmd_prefix": "rm(",
     "library": "var_list.r",
     "varRefreshCmd": "cat(var_dic_list()) "
    }
   },
   "types_to_exclude": [
    "module",
    "function",
    "builtin_function_or_method",
    "instance",
    "_Feature"
   ],
   "window_display": false
  }
 },
 "nbformat": 4,
 "nbformat_minor": 2
}

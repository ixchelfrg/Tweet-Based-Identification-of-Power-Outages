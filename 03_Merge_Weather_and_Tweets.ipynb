{
 "cells": [
  {
   "cell_type": "code",
   "execution_count": 1,
   "metadata": {},
   "outputs": [],
   "source": [
    "import pandas as pd\n",
    "import numpy as np\n",
    "import matplotlib.pyplot as plt\n",
    "import seaborn as sns\n",
    "%matplotlib inline"
   ]
  },
  {
   "cell_type": "markdown",
   "metadata": {},
   "source": [
    "#### Twitter Dataframe"
   ]
  },
  {
   "cell_type": "code",
   "execution_count": null,
   "metadata": {},
   "outputs": [],
   "source": [
    "# Read in the final Twitter dataframe\n",
    "tweets = pd.read_csv('./data/nlp_tweets_2012_2017.csv')\n",
    "tweets['datetime'] = pd.to_datetime(tweets['datetime'])\n",
    "tweets.shape"
   ]
  },
  {
   "cell_type": "code",
   "execution_count": 5,
   "metadata": {},
   "outputs": [],
   "source": [
    "# Select only the columns we're interested in\n",
    "tweets_datetime = tweets[['datetime', 'text', 'regex_clean_tweets', 'lemmed_tweet']]"
   ]
  },
  {
   "cell_type": "code",
   "execution_count": 6,
   "metadata": {},
   "outputs": [
    {
     "data": {
      "text/html": [
       "<div>\n",
       "<style scoped>\n",
       "    .dataframe tbody tr th:only-of-type {\n",
       "        vertical-align: middle;\n",
       "    }\n",
       "\n",
       "    .dataframe tbody tr th {\n",
       "        vertical-align: top;\n",
       "    }\n",
       "\n",
       "    .dataframe thead th {\n",
       "        text-align: right;\n",
       "    }\n",
       "</style>\n",
       "<table border=\"1\" class=\"dataframe\">\n",
       "  <thead>\n",
       "    <tr style=\"text-align: right;\">\n",
       "      <th></th>\n",
       "      <th>datetime</th>\n",
       "      <th>text</th>\n",
       "      <th>regex_clean_tweets</th>\n",
       "      <th>lemmed_tweet</th>\n",
       "    </tr>\n",
       "  </thead>\n",
       "  <tbody>\n",
       "    <tr>\n",
       "      <th>0</th>\n",
       "      <td>2012-10-01 00:00:00</td>\n",
       "      <td>@ ckundo  Inspired by your  ConEd  summary  ou...</td>\n",
       "      <td>ckundo Inspired ConEd summary outage info Ruby...</td>\n",
       "      <td>ckundo Inspired ConEd summary outage info Ruby...</td>\n",
       "    </tr>\n",
       "    <tr>\n",
       "      <th>1</th>\n",
       "      <td>2012-10-06 13:00:00</td>\n",
       "      <td>Partial  power   outage  at #MediaLoft  That's...</td>\n",
       "      <td>Partial power outage MediaLoft That twice week...</td>\n",
       "      <td>Partial power outage MediaLoft That twice week...</td>\n",
       "    </tr>\n",
       "  </tbody>\n",
       "</table>\n",
       "</div>"
      ],
      "text/plain": [
       "             datetime                                               text  \\\n",
       "0 2012-10-01 00:00:00  @ ckundo  Inspired by your  ConEd  summary  ou...   \n",
       "1 2012-10-06 13:00:00  Partial  power   outage  at #MediaLoft  That's...   \n",
       "\n",
       "                                  regex_clean_tweets  \\\n",
       "0  ckundo Inspired ConEd summary outage info Ruby...   \n",
       "1  Partial power outage MediaLoft That twice week...   \n",
       "\n",
       "                                        lemmed_tweet  \n",
       "0  ckundo Inspired ConEd summary outage info Ruby...  \n",
       "1  Partial power outage MediaLoft That twice week...  "
      ]
     },
     "execution_count": 6,
     "metadata": {},
     "output_type": "execute_result"
    }
   ],
   "source": [
    "# Take a look at the dataframe to make sure it's what we want\n",
    "tweets_datetime.head(2)"
   ]
  },
  {
   "cell_type": "markdown",
   "metadata": {},
   "source": [
    "#### Weather and Outage Dataframe"
   ]
  },
  {
   "cell_type": "code",
   "execution_count": 7,
   "metadata": {},
   "outputs": [
    {
     "data": {
      "text/plain": [
       "(44460, 41)"
      ]
     },
     "execution_count": 7,
     "metadata": {},
     "output_type": "execute_result"
    }
   ],
   "source": [
    "# Read in the Weather and Outage dataframe\n",
    "weather = pd.read_csv('./data/weather_and_outage.csv')\n",
    "weather['datetime'] = pd.to_datetime(weather['datetime'])\n",
    "weather.shape"
   ]
  },
  {
   "cell_type": "markdown",
   "metadata": {},
   "source": [
    "#### Merging the Dataframes"
   ]
  },
  {
   "cell_type": "code",
   "execution_count": 18,
   "metadata": {},
   "outputs": [],
   "source": [
    "# Map the Twitter data onto the Weather and Outage data\n",
    "temp = pd.merge(left=tweets_datetime,\n",
    "         right=weather,\n",
    "         how='right',\n",
    "         on='datetime')\n"
   ]
  },
  {
   "cell_type": "code",
   "execution_count": 10,
   "metadata": {},
   "outputs": [
    {
     "data": {
      "text/plain": [
       "text                                   43464\n",
       "regex_clean_tweets                     43464\n",
       "lemmed_tweet                           43464\n",
       "outage                                     0\n",
       "freezing rain                              0\n",
       "light intensity shower rain                0\n",
       "light intensity drizzle                    0\n",
       "heavy thunderstorm                         0\n",
       "heavy snow                                 0\n",
       "heavy intensity rain                       0\n",
       "heavy intensity drizzle                    0\n",
       "haze                                       0\n",
       "few clouds                                 0\n",
       "fog                                        0\n",
       "very heavy rain                            0\n",
       "dust                                       0\n",
       "drizzle                                    0\n",
       "broken clouds                              0\n",
       "wind_speed_mph                             0\n",
       "wind_dir_degrees                           0\n",
       "temperature_f                              0\n",
       "light rain                                 0\n",
       "light rain and snow                        0\n",
       "light snow                                 0\n",
       "sky is clear                               0\n",
       "thunderstorm with rain                     0\n",
       "thunderstorm with light rain               0\n",
       "thunderstorm with light drizzle            0\n",
       "thunderstorm with heavy rain               0\n",
       "thunderstorm                               0\n",
       "squalls                                    0\n",
       "snow                                       0\n",
       "smoke                                      0\n",
       "shower rain                                0\n",
       "mist                                       0\n",
       "scattered clouds                           0\n",
       "sand/dust whirls                           0\n",
       "sand                                       0\n",
       "proximity thunderstorm with rain           0\n",
       "proximity thunderstorm with drizzle        0\n",
       "proximity thunderstorm                     0\n",
       "overcast clouds                            0\n",
       "moderate rain                              0\n",
       "datetime                                   0\n",
       "dtype: int64"
      ]
     },
     "execution_count": 10,
     "metadata": {},
     "output_type": "execute_result"
    }
   ],
   "source": [
    "# Check null values\n",
    "sorted(temp.isnull().sum(), reverse=True)\n",
    "temp.isnull().sum().sort_values(ascending=False)"
   ]
  },
  {
   "cell_type": "code",
   "execution_count": 20,
   "metadata": {},
   "outputs": [
    {
     "data": {
      "text/plain": [
       "(45545, 44)"
      ]
     },
     "execution_count": 20,
     "metadata": {},
     "output_type": "execute_result"
    }
   ],
   "source": [
    "# Fill null values with a meaningless placeholder\n",
    "final_df = temp.fillna(value = 'hello')\n",
    "final_df.shape"
   ]
  },
  {
   "cell_type": "code",
   "execution_count": 15,
   "metadata": {},
   "outputs": [],
   "source": [
    "# Save the merged dataframe to csv\n",
    "final_df.to_csv('./data/merged_weather_tweets.csv')"
   ]
  }
 ],
 "metadata": {
  "kernelspec": {
   "display_name": "Python 3",
   "language": "python",
   "name": "python3"
  },
  "language_info": {
   "codemirror_mode": {
    "name": "ipython",
    "version": 3
   },
   "file_extension": ".py",
   "mimetype": "text/x-python",
   "name": "python",
   "nbconvert_exporter": "python",
   "pygments_lexer": "ipython3",
   "version": "3.6.8"
  }
 },
 "nbformat": 4,
 "nbformat_minor": 2
}
